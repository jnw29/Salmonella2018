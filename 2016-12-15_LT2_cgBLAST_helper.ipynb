{
 "cells": [
  {
   "cell_type": "code",
   "execution_count": 5,
   "metadata": {
    "collapsed": false
   },
   "outputs": [],
   "source": [
    "import os\n",
    "from Bio import SeqRecord, SeqIO\n",
    "import Bio"
   ]
  },
  {
   "cell_type": "code",
   "execution_count": 24,
   "metadata": {
    "collapsed": false
   },
   "outputs": [],
   "source": [
    "#need to make a file of nucleotides\n",
    "nuclist = []\n",
    "prolist = []\n",
    "for record in SeqIO.parse('./../core_genome/reference_genome/LT2.nuc.fasta', 'fasta'):\n",
    "    if 'gene=' in record.description:\n",
    "        nuclist.append(record.description.split('gene=')[1].split(']')[0])\n",
    "    else:\n",
    "        nuclist.append(record.description.split('locus_tag=')[1].split(']')[0])\n",
    "for record in SeqIO.parse('./../core_genome/reference_genome/LT2.pro.fasta', 'fasta'):\n",
    "    prolist.append(record.description.split('gene=')[1].split(']')[0])"
   ]
  },
  {
   "cell_type": "code",
   "execution_count": 25,
   "metadata": {
    "collapsed": false
   },
   "outputs": [
    {
     "name": "stdout",
     "output_type": "stream",
     "text": [
      "rfbI\n",
      "sodC\n",
      "sseA\n",
      "sseB\n",
      "sodC\n",
      "asnT\n",
      "asnT\n",
      "rfbI\n",
      "ccmH\n",
      "ccmG\n",
      "ccmF\n",
      "ccmE\n",
      "ccmD\n",
      "ccmC\n",
      "ccmB\n",
      "ccmA\n",
      "sseA\n",
      "sseB\n",
      "yigC\n",
      "ccmH\n",
      "ccmG\n",
      "ccmF\n",
      "ccmE\n",
      "ccmD\n",
      "ccmC\n",
      "ccmB\n",
      "ccmA\n",
      "yigC\n"
     ]
    }
   ],
   "source": [
    "for item in nuclist:\n",
    "    if nuclist.count(item)>1:\n",
    "        print(item)"
   ]
  },
  {
   "cell_type": "code",
   "execution_count": 29,
   "metadata": {
    "collapsed": false
   },
   "outputs": [
    {
     "data": {
      "text/plain": [
       "156"
      ]
     },
     "execution_count": 29,
     "metadata": {},
     "output_type": "execute_result"
    }
   ],
   "source": [
    "newrecord = []\n",
    "for record in SeqIO.parse('./../core_genome/reference_genome/LT2.nuc.fasta', 'fasta'):\n",
    "    name = None\n",
    "    if 'gene=' in record.description:\n",
    "        name = (record.description.split('gene=')[1].split(']')[0])\n",
    "    elif 'locus_tag=' in record.description:\n",
    "        name = (record.description.split('locus_tag=')[1].split(']')[0])\n",
    "    if name == None:\n",
    "        print(record)\n",
    "    if name not in prolist:\n",
    "        newrecord.append(record)\n",
    "SeqIO.write(newrecord, './../core_genome/reference_genome/LT2.nuconly.fasta', 'fasta')"
   ]
  },
  {
   "cell_type": "code",
   "execution_count": null,
   "metadata": {
    "collapsed": true
   },
   "outputs": [],
   "source": []
  }
 ],
 "metadata": {
  "anaconda-cloud": {},
  "kernelspec": {
   "display_name": "Python [default]",
   "language": "python",
   "name": "python3"
  },
  "language_info": {
   "codemirror_mode": {
    "name": "ipython",
    "version": 3
   },
   "file_extension": ".py",
   "mimetype": "text/x-python",
   "name": "python",
   "nbconvert_exporter": "python",
   "pygments_lexer": "ipython3",
   "version": "3.5.2"
  }
 },
 "nbformat": 4,
 "nbformat_minor": 0
}
