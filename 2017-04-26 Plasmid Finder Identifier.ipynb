{
 "cells": [
  {
   "cell_type": "code",
   "execution_count": 13,
   "metadata": {
    "collapsed": true
   },
   "outputs": [],
   "source": [
    "import os\n",
    "from Bio import SeqIO"
   ]
  },
  {
   "cell_type": "code",
   "execution_count": 20,
   "metadata": {
    "collapsed": false
   },
   "outputs": [],
   "source": [
    "blastdir = './BLASTn-hits-genomesub/'\n",
    "contighits = {}\n",
    "for file in ['plasmid_database.blastn']:\n",
    "    fp = os.path.join(blastdir,file)\n",
    "    if os.path.getsize(fp) > 0:\n",
    "        f = open(fp, 'r')\n",
    "        filelines = f.read().strip().split('\\n')\n",
    "        for i in range(len(filelines)):\n",
    "            if i == 0 and float(filelines[i].split('\\t')[2]) > 80:\n",
    "                contighits[filelines[i].split('\\t')[1]] = filelines[i].split('\\t')\n",
    "                continue\n",
    "            elif i <= len(filelines) and float(filelines[i].split('\\t')[2]) > 80:\n",
    "                if filelines[i].split('\\t')[1]!=filelines[i-1].split('\\t')[1]:\n",
    "                    contighits[filelines[i].split('\\t')[1]] = filelines[i].split('\\t')\n",
    "                    continue\n",
    "                else:\n",
    "                    continue\n",
    "        f.close()\n",
    "with open('Plasmid_finder_hits.tab', 'w') as f:\n",
    "    f.write('plasmid_group\\tcontig\\tpctID\\tlen\\tmism\\tgaps\\tqstart\\tqend\\tsstart\\tsend\\teval\\tbitscore\\n')\n",
    "    for contig in sorted(contighits.keys()):\n",
    "        newline = '\\t'.join(contighits[contig])+'\\n'\n",
    "        f.write(newline)\n",
    "    "
   ]
  },
  {
   "cell_type": "code",
   "execution_count": 32,
   "metadata": {
    "collapsed": false
   },
   "outputs": [
    {
     "name": "stdout",
     "output_type": "stream",
     "text": [
      "188\n"
     ]
    }
   ],
   "source": [
    "#For review: check % of query that was covered by hit\n",
    "\n",
    "g = open('Plasmid_finder_hits_after_review.tab', 'w')\n",
    "g.write('plasmid_group\\tcontig\\tpctID\\tlen\\tmism\\tgaps\\tqstart\\tqend\\tsstart\\tsend\\teval\\tbitscore\\n')\n",
    "\n",
    "pf_db = './PlasmidFinder/plasmidfinder/plasmid_database.fsa'\n",
    "\n",
    "query_lengths = {}\n",
    "\n",
    "for record in SeqIO.parse(pf_db, 'fasta'):\n",
    "    query_lengths[record.id] = len(record.seq)\n",
    "\n",
    "f = open('Plasmid_finder_hits.tab', 'r')\n",
    "\n",
    "lines = enumerate(f.readlines()[1:])\n",
    "fracs = []\n",
    "numkept = 0\n",
    "for line in lines:\n",
    "    sl = line[1].split('\\t') #splitlines\n",
    "    query = sl[0]\n",
    "    hitlen = int(sl[3])\n",
    "    fracs.append(hitlen/query_lengths[query])\n",
    "    if hitlen/query_lengths[query] >= 0.8:\n",
    "        g.write(line[1])\n",
    "        numkept += 1\n",
    "f.close()\n",
    "g.close()\n",
    "print(numkept)"
   ]
  },
  {
   "cell_type": "code",
   "execution_count": 30,
   "metadata": {
    "collapsed": false
   },
   "outputs": [
    {
     "name": "stdout",
     "output_type": "stream",
     "text": [
      "number with fraction above 0 %:\n",
      "205 \n",
      "\n",
      "number with fraction above 10 %:\n",
      "204 \n",
      "\n",
      "number with fraction above 20 %:\n",
      "202 \n",
      "\n",
      "number with fraction above 30 %:\n",
      "200 \n",
      "\n",
      "number with fraction above 40 %:\n",
      "200 \n",
      "\n",
      "number with fraction above 50 %:\n",
      "200 \n",
      "\n",
      "number with fraction above 60 %:\n",
      "195 \n",
      "\n",
      "number with fraction above 70 %:\n",
      "194 \n",
      "\n",
      "number with fraction above 80 %:\n",
      "188 \n",
      "\n",
      "number with fraction above 90 %:\n",
      "188 \n",
      "\n"
     ]
    }
   ],
   "source": [
    "for i in range(10):\n",
    "    print('number with fraction above', 10*i, '%:')\n",
    "    subset = [j for j in fracs if j > i/10]\n",
    "    print(len(subset), '\\n')"
   ]
  },
  {
   "cell_type": "code",
   "execution_count": 28,
   "metadata": {
    "collapsed": false
   },
   "outputs": [
    {
     "data": {
      "text/plain": [
       "0.9170731707317074"
      ]
     },
     "execution_count": 28,
     "metadata": {},
     "output_type": "execute_result"
    }
   ],
   "source": [
    "188/205"
   ]
  },
  {
   "cell_type": "code",
   "execution_count": null,
   "metadata": {
    "collapsed": true
   },
   "outputs": [],
   "source": []
  }
 ],
 "metadata": {
  "anaconda-cloud": {},
  "kernelspec": {
   "display_name": "Python [default]",
   "language": "python",
   "name": "python3"
  },
  "language_info": {
   "codemirror_mode": {
    "name": "ipython",
    "version": 3
   },
   "file_extension": ".py",
   "mimetype": "text/x-python",
   "name": "python",
   "nbconvert_exporter": "python",
   "pygments_lexer": "ipython3",
   "version": "3.5.2"
  }
 },
 "nbformat": 4,
 "nbformat_minor": 0
}
