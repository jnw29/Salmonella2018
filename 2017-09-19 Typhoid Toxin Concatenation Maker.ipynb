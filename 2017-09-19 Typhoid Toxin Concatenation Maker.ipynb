{
 "cells": [
  {
   "cell_type": "code",
   "execution_count": 33,
   "metadata": {
    "collapsed": true
   },
   "outputs": [],
   "source": [
    "import os\n",
    "import Bio.SeqIO as SeqIO\n",
    "import pandas as pd"
   ]
  },
  {
   "cell_type": "code",
   "execution_count": 34,
   "metadata": {
    "collapsed": false
   },
   "outputs": [],
   "source": [
    "fastadir = './FASTA/'\n",
    "blastfile = './BLASTn-hits-genomesub/VFDB_setB_nt.blastn'\n",
    "gene_name_xl = './Comparative_tables_from_VFDB/Salmonella_VFs_comparsion.xls'"
   ]
  },
  {
   "cell_type": "code",
   "execution_count": 35,
   "metadata": {
    "collapsed": false
   },
   "outputs": [],
   "source": [
    "#Build a dictionary of gene names.\n",
    "#Subunit names:\n",
    "subunits = ['cdtB','pltA','pltB']\n",
    "\n",
    "gd = {} #gene dictionary\n",
    "\n",
    "for subunit in subunits:\n",
    "    if subunit not in gd:\n",
    "        gd[subunit] = []\n",
    "\n",
    "#build dictionary using pandas reference\n",
    "\n",
    "#pulled from older code\n",
    "descdict = {}\n",
    "for seq in SeqIO.parse('./BLASTDB/VFDB_setB_nt.fas', 'fasta'):\n",
    "    descdict[seq.name] = seq.description\n",
    "\n",
    "    \n",
    "#pull out the gene names (VFG Tag) for searching blast hits\n",
    "for ref_gene in list(descdict.keys()):\n",
    "    for tox_gene in subunits:\n",
    "        if tox_gene in descdict[ref_gene]:\n",
    "            gd[tox_gene].append(ref_gene)\n",
    "            \n",
    "sd = {} #subunit dictionary\n",
    "for tox_gene in gd:\n",
    "    for vfg in gd[tox_gene]:\n",
    "        sd[vfg]=tox_gene"
   ]
  },
  {
   "cell_type": "code",
   "execution_count": 36,
   "metadata": {
    "collapsed": false
   },
   "outputs": [
    {
     "name": "stdout",
     "output_type": "stream",
     "text": [
      "1562\n"
     ]
    }
   ],
   "source": [
    "#Extract the blast hits, were created in blast format\n",
    "hits = []\n",
    "for line in open(blastfile,'r'):\n",
    "    for subunit in gd:\n",
    "        if any([True if i in line else False for i in gd[subunit]]):\n",
    "            hits.append(line)\n",
    "print(len(hits))"
   ]
  },
  {
   "cell_type": "code",
   "execution_count": 46,
   "metadata": {
    "collapsed": false
   },
   "outputs": [
    {
     "name": "stdout",
     "output_type": "stream",
     "text": [
      "162\n",
      "165\n",
      "SEQ000031518_NODE_64_length_18658_cov_24.7356 [('SEQ000031518', 'SEQ000031518_NODE_64_length_18658_cov_24.7356', 'cdtB', '93.462', '6480', '5701'), ('SEQ000031518', 'SEQ000031518_NODE_64_length_18658_cov_24.7356', 'cdtB', '93.205', '6480', '5701'), ('SEQ000031518', 'SEQ000031518_NODE_64_length_18658_cov_24.7356', 'cdtB', '95.309', '6500', '5691'), ('SEQ000031518', 'SEQ000031518_NODE_64_length_18658_cov_24.7356', 'pltA', '96.448', '3513', '4244'), ('SEQ000031518', 'SEQ000031518_NODE_64_length_18658_cov_24.7356', 'pltB', '76.650', '3104', '3485'), ('SEQ000031518', 'SEQ000031518_NODE_64_length_18658_cov_24.7356', 'cdtB', '93.333', '6480', '5701')] \n",
      "\n",
      "SEQ000031518_NODE_1_length_57489_cov_23.7477 [('SEQ000031518', 'SEQ000031518_NODE_1_length_57489_cov_23.7477', 'cdtB', '99.753', '30473', '29664'), ('SEQ000031518', 'SEQ000031518_NODE_1_length_57489_cov_23.7477', 'cdtB', '99.259', '30473', '29664'), ('SEQ000031518', 'SEQ000031518_NODE_1_length_57489_cov_23.7477', 'cdtB', '94.007', '30473', '29674'), ('SEQ000031518', 'SEQ000031518_NODE_1_length_57489_cov_23.7477', 'pltA', '98.628', '27603', '28331'), ('SEQ000031518', 'SEQ000031518_NODE_1_length_57489_cov_23.7477', 'pltA', '98.765', '27603', '28331'), ('SEQ000031518', 'SEQ000031518_NODE_1_length_57489_cov_23.7477', 'pltB', '96.618', '27173', '27586'), ('SEQ000031518', 'SEQ000031518_NODE_1_length_57489_cov_23.7477', 'pltB', '98.068', '27173', '27586'), ('SEQ000031518', 'SEQ000031518_NODE_1_length_57489_cov_23.7477', 'cdtB', '99.877', '30473', '29664'), ('SEQ000031518', 'SEQ000031518_NODE_1_length_57489_cov_23.7477', 'pltA', '100.000', '27603', '28331')] \n",
      "\n",
      "SEQ000011998_NODE_38_length_33091_cov_29.5789 [('SEQ000011998', 'SEQ000011998_NODE_38_length_33091_cov_29.5789', 'cdtB', '94.103', '29197', '29976'), ('SEQ000011998', 'SEQ000011998_NODE_38_length_33091_cov_29.5789', 'cdtB', '93.846', '29197', '29976'), ('SEQ000011998', 'SEQ000011998_NODE_38_length_33091_cov_29.5789', 'cdtB', '95.802', '29177', '29986'), ('SEQ000011998', 'SEQ000011998_NODE_38_length_33091_cov_29.5789', 'pltA', '96.175', '32154', '31423'), ('SEQ000011998', 'SEQ000011998_NODE_38_length_33091_cov_29.5789', 'pltB', '76.396', '32563', '32182'), ('SEQ000011998', 'SEQ000011998_NODE_38_length_33091_cov_29.5789', 'cdtB', '93.974', '29197', '29976')] \n",
      "\n",
      "SEQ000011998_NODE_15_length_133032_cov_28.0361 [('SEQ000011998', 'SEQ000011998_NODE_15_length_133032_cov_28.0361', 'cdtB', '99.877', '123695', '124503'), ('SEQ000011998', 'SEQ000011998_NODE_15_length_133032_cov_28.0361', 'cdtB', '99.383', '123695', '124503'), ('SEQ000011998', 'SEQ000011998_NODE_15_length_133032_cov_28.0361', 'cdtB', '94.250', '123695', '124493'), ('SEQ000011998', 'SEQ000011998_NODE_15_length_133032_cov_28.0361', 'pltA', '98.354', '126564', '125836'), ('SEQ000011998', 'SEQ000011998_NODE_15_length_133032_cov_28.0361', 'pltA', '98.491', '126564', '125836'), ('SEQ000011998', 'SEQ000011998_NODE_15_length_133032_cov_28.0361', 'pltB', '96.860', '126994', '126581'), ('SEQ000011998', 'SEQ000011998_NODE_15_length_133032_cov_28.0361', 'pltB', '98.309', '126994', '126581'), ('SEQ000011998', 'SEQ000011998_NODE_15_length_133032_cov_28.0361', 'cdtB', '99.753', '123695', '124503'), ('SEQ000011998', 'SEQ000011998_NODE_15_length_133032_cov_28.0361', 'pltA', '99.177', '126564', '125836')] \n",
      "\n",
      "SEQ000003035_NODE_7_length_240217_cov_49.7667 [('SEQ000003035', 'SEQ000003035_NODE_7_length_240217_cov_49.7667', 'cdtB', '99.877', '231620', '232429'), ('SEQ000003035', 'SEQ000003035_NODE_7_length_240217_cov_49.7667', 'cdtB', '99.383', '231620', '232429'), ('SEQ000003035', 'SEQ000003035_NODE_7_length_240217_cov_49.7667', 'cdtB', '94.132', '231620', '232419'), ('SEQ000003035', 'SEQ000003035_NODE_7_length_240217_cov_49.7667', 'pltA', '98.491', '234490', '233762'), ('SEQ000003035', 'SEQ000003035_NODE_7_length_240217_cov_49.7667', 'pltA', '98.628', '234490', '233762'), ('SEQ000003035', 'SEQ000003035_NODE_7_length_240217_cov_49.7667', 'pltB', '96.860', '234920', '234507'), ('SEQ000003035', 'SEQ000003035_NODE_7_length_240217_cov_49.7667', 'pltB', '98.309', '234920', '234507'), ('SEQ000003035', 'SEQ000003035_NODE_7_length_240217_cov_49.7667', 'cdtB', '100.000', '231620', '232429'), ('SEQ000003035', 'SEQ000003035_NODE_7_length_240217_cov_49.7667', 'pltA', '99.863', '234490', '233762')] \n",
      "\n",
      "SEQ000003035_NODE_6_length_296205_cov_53.3537 [('SEQ000003035', 'SEQ000003035_NODE_6_length_296205_cov_53.3537', 'cdtB', '93.462', '213855', '213076'), ('SEQ000003035', 'SEQ000003035_NODE_6_length_296205_cov_53.3537', 'cdtB', '93.205', '213855', '213076'), ('SEQ000003035', 'SEQ000003035_NODE_6_length_296205_cov_53.3537', 'cdtB', '95.309', '213875', '213066'), ('SEQ000003035', 'SEQ000003035_NODE_6_length_296205_cov_53.3537', 'pltA', '96.448', '210889', '211620'), ('SEQ000003035', 'SEQ000003035_NODE_6_length_296205_cov_53.3537', 'pltB', '76.650', '210480', '210861'), ('SEQ000003035', 'SEQ000003035_NODE_6_length_296205_cov_53.3537', 'cdtB', '93.333', '213855', '213076')] \n",
      "\n"
     ]
    }
   ],
   "source": [
    "genome_hits = {}\n",
    "subunit_hits = {}\n",
    "for hit in hits:\n",
    "    splits = hit.split('\\t')\n",
    "    vfg = splits[0]\n",
    "    contig = splits[1]\n",
    "    pct = splits[2]\n",
    "    start = splits[-4]\n",
    "    stop = splits[-3]\n",
    "    genome = contig.split('_')[0]\n",
    "    subunit = sd[vfg]\n",
    "    if float(pct)<80:\n",
    "        continue\n",
    "    if genome not in genome_hits:\n",
    "        genome_hits[genome] = []\n",
    "    if genome not in subunit_hits:\n",
    "        subunit_hits[genome] = []    \n",
    "    genome_hits[genome].append((genome, contig, subunit, pct, start, stop))\n",
    "    subunit_hits[genome].append(subunit)\n",
    "    \n",
    "for genome in subunit_hits:\n",
    "    subunit_hits[genome] = list(set(subunit_hits[genome]))\n",
    "\n",
    "positive_genomes = [genome for genome in subunit_hits.keys() if sorted(subunit_hits[genome]) == sorted(subunits)]\n",
    "\n",
    "#get contigs with all 3 genes only -> seem to sequence fine. Compare to number of positive genomes\n",
    "#added Oct. 24th, 2017\n",
    "\n",
    "contig_hits = {}\n",
    "for hit in hits:\n",
    "    splits = hit.split('\\t')\n",
    "    vfg = splits[0]\n",
    "    contig = splits[1]\n",
    "    pct = splits[2]\n",
    "    start = splits[-4]\n",
    "    stop = splits[-3]\n",
    "    genome = contig.split('_')[0]\n",
    "    subunit = sd[vfg]\n",
    "    if contig not in contig_hits:\n",
    "        contig_hits[contig] = []\n",
    "    contig_hits[contig].append((genome, contig, subunit, pct, start, stop))\n",
    "positive_contigs = [contig for contig in contig_hits.keys() if sorted(set([i[2] for i in contig_hits[contig]])) == sorted(subunits)]\n",
    "\n",
    "print(len(positive_genomes))\n",
    "print(len(positive_contigs))\n",
    "\n",
    "#look for multiple hits in same genome\n",
    "for genome in positive_genomes:\n",
    "    if len([i for i in positive_contigs if genome in i])>1:\n",
    "        contigs = [i for i in contig_hits.keys() if genome in i]\n",
    "        for contig in contigs:\n",
    "            print(contig, contig_hits[contig],'\\n')\n",
    "    if genome not in [i.split('_')[0] for i in contig_hits.keys()]:\n",
    "        print('\\n\\n',genome,'\\n\\n')"
   ]
  },
  {
   "cell_type": "code",
   "execution_count": 47,
   "metadata": {
    "collapsed": false
   },
   "outputs": [],
   "source": [
    "#hits format (genome, contig, subunit, pct, start, stop)\n",
    "#updated Oct. 24th to put in individual contig hits\n",
    "file_lines = []\n",
    "for contig in positive_contigs:\n",
    "    seqs = []\n",
    "    best_hits = []\n",
    "    for subunit in subunits:\n",
    "        #first, find the best hit for the subunit\n",
    "        hits = [i for i in contig_hits[contig] if i[2] == subunit]\n",
    "        pcts = sorted([float(i[3]) for i in hits])\n",
    "        best_index = pcts.index(max(pcts))\n",
    "        hit = hits[best_index]#pull out the first hit that has the best match\n",
    "        genome, contig, subunit, pct, start, stop = hit\n",
    "        best_hits.append([contig, start, stop])\n",
    "    records = SeqIO.to_dict(SeqIO.parse(fastadir+genome+'.fasta', 'fasta'))\n",
    "    for hit in best_hits:\n",
    "        contig, start, stop = hit\n",
    "        start = int(start)\n",
    "        stop = int(stop)\n",
    "        if stop < start:\n",
    "            first = stop-1\n",
    "            last = start\n",
    "            seqs.append(records[contig].seq[first:last].reverse_complement())\n",
    "        else:\n",
    "            first = start-1\n",
    "            last = stop\n",
    "            seqs.append(records[contig].seq[first:last])        \n",
    "    seqs = ''.join([str(i) for i in seqs])\n",
    "    file_lines.append('>'+'_'.join(contig.split('_')[0:3]))\n",
    "    file_lines.append(seqs)\n",
    "with open('./Typhoid_tox_concatenations/unaligned.fasta','w') as f:\n",
    "    f.write('\\n'.join(file_lines))"
   ]
  },
  {
   "cell_type": "code",
   "execution_count": 150,
   "metadata": {
    "collapsed": true
   },
   "outputs": [],
   "source": [
    "#muscle -in unaligned.fasta -out aligned.fasta\n",
    "#was run in command line before proceeding"
   ]
  },
  {
   "cell_type": "code",
   "execution_count": 167,
   "metadata": {
    "collapsed": false
   },
   "outputs": [
    {
     "name": "stdout",
     "output_type": "stream",
     "text": [
      "10\n"
     ]
    }
   ],
   "source": [
    "seqs = []\n",
    "for record in SeqIO.parse('./Typhoid_tox_concatenations/unaligned.fasta', 'fasta'):\n",
    "    seqs.append(len(record.seq))\n",
    "print(len(set(seqs)))"
   ]
  },
  {
   "cell_type": "code",
   "execution_count": 31,
   "metadata": {
    "collapsed": false
   },
   "outputs": [
    {
     "name": "stdout",
     "output_type": "stream",
     "text": [
      "SAMN02844600_NODE_49_length_30708_cov_33.2201,cdtB,93.854\n",
      "SAMN02844600_NODE_40_length_46449_cov_31.6221,cdtB,93.974\n",
      "SAMN02844600_NODE_49_length_30708_cov_33.2201,cdtB,93.982\n",
      "SAMN02844600_NODE_40_length_46449_cov_31.6221,cdtB,94.103\n",
      "SAMN02844600_NODE_49_length_30708_cov_33.2201,cdtB,94.110\n",
      "SAMN02844600_NODE_40_length_46449_cov_31.6221,cdtB,94.231\n",
      "SAMN02844600_NODE_49_length_30708_cov_33.2201,cdtB,94.424\n",
      "SAMN02844600_NODE_40_length_46449_cov_31.6221,cdtB,95.309\n",
      "\n",
      "\n",
      "SAMN02844600_NODE_40_length_46449_cov_31.6221,pltA,95.492\n",
      "SAMN02844600_NODE_49_length_30708_cov_33.2201,pltA,96.585\n",
      "\n",
      "\n",
      "SEQ000031518_NODE_64_length_18658_cov_24.7356,cdtB,93.205\n",
      "SEQ000031518_NODE_64_length_18658_cov_24.7356,cdtB,93.333\n",
      "SEQ000031518_NODE_64_length_18658_cov_24.7356,cdtB,93.462\n",
      "SEQ000031518_NODE_1_length_57489_cov_23.7477,cdtB,94.007\n",
      "SEQ000031518_NODE_64_length_18658_cov_24.7356,cdtB,95.309\n",
      "SEQ000031518_NODE_1_length_57489_cov_23.7477,cdtB,99.259\n",
      "SEQ000031518_NODE_1_length_57489_cov_23.7477,cdtB,99.753\n",
      "SEQ000031518_NODE_1_length_57489_cov_23.7477,cdtB,99.877\n",
      "\n",
      "\n",
      "SEQ000031518_NODE_64_length_18658_cov_24.7356,pltA,96.448\n",
      "SEQ000031518_NODE_1_length_57489_cov_23.7477,pltA,98.628\n",
      "SEQ000031518_NODE_1_length_57489_cov_23.7477,pltA,98.765\n",
      "SEQ000031518_NODE_1_length_57489_cov_23.7477,pltA,100.000\n",
      "\n",
      "\n",
      "SEQ000011998_NODE_38_length_33091_cov_29.5789,cdtB,93.846\n",
      "SEQ000011998_NODE_38_length_33091_cov_29.5789,cdtB,93.974\n",
      "SEQ000011998_NODE_38_length_33091_cov_29.5789,cdtB,94.103\n",
      "SEQ000011998_NODE_15_length_133032_cov_28.0361,cdtB,94.250\n",
      "SEQ000011998_NODE_38_length_33091_cov_29.5789,cdtB,95.802\n",
      "SEQ000011998_NODE_15_length_133032_cov_28.0361,cdtB,99.383\n",
      "SEQ000011998_NODE_15_length_133032_cov_28.0361,cdtB,99.753\n",
      "SEQ000011998_NODE_15_length_133032_cov_28.0361,cdtB,99.877\n",
      "\n",
      "\n",
      "SEQ000011998_NODE_38_length_33091_cov_29.5789,pltA,96.175\n",
      "SEQ000011998_NODE_15_length_133032_cov_28.0361,pltA,98.354\n",
      "SEQ000011998_NODE_15_length_133032_cov_28.0361,pltA,98.491\n",
      "SEQ000011998_NODE_15_length_133032_cov_28.0361,pltA,99.177\n",
      "\n",
      "\n",
      "SEQ000029384_NODE_126_length_570_cov_12.0677,pltA,98.913\n",
      "SEQ000029384_NODE_126_length_570_cov_12.0677,pltA,98.913\n",
      "SEQ000029384_NODE_126_length_570_cov_12.0677,pltA,98.913\n",
      "SEQ000029384_NODE_89_length_5921_cov_29.7603,pltA,98.939\n",
      "SEQ000029384_NODE_89_length_5921_cov_29.7603,pltA,99.091\n",
      "SEQ000029384_NODE_89_length_5921_cov_29.7603,pltA,99.848\n",
      "\n",
      "\n",
      "SEQ000003035_NODE_6_length_296205_cov_53.3537,cdtB,93.205\n",
      "SEQ000003035_NODE_6_length_296205_cov_53.3537,cdtB,93.333\n",
      "SEQ000003035_NODE_6_length_296205_cov_53.3537,cdtB,93.462\n",
      "SEQ000003035_NODE_7_length_240217_cov_49.7667,cdtB,94.132\n",
      "SEQ000003035_NODE_6_length_296205_cov_53.3537,cdtB,95.309\n",
      "SEQ000003035_NODE_7_length_240217_cov_49.7667,cdtB,99.383\n",
      "SEQ000003035_NODE_7_length_240217_cov_49.7667,cdtB,99.877\n",
      "SEQ000003035_NODE_7_length_240217_cov_49.7667,cdtB,100.000\n",
      "\n",
      "\n",
      "SEQ000003035_NODE_6_length_296205_cov_53.3537,pltA,96.448\n",
      "SEQ000003035_NODE_7_length_240217_cov_49.7667,pltA,98.491\n",
      "SEQ000003035_NODE_7_length_240217_cov_49.7667,pltA,98.628\n",
      "SEQ000003035_NODE_7_length_240217_cov_49.7667,pltA,99.863\n",
      "\n",
      "\n"
     ]
    }
   ],
   "source": [
    "#A select few genomes seem to have more than one copy\n",
    "file_lines = []\n",
    "for genome in positive_genomes:\n",
    "    seqs = []\n",
    "    best_hits = []\n",
    "    for subunit in subunits:\n",
    "        #first, find the best hit for the subunit\n",
    "        hits = [i for i in genome_hits[genome] if i[2] == subunit]\n",
    "        contig_list = set([i[1] for i in hits])\n",
    "        if len(contig_list)>1:\n",
    "            print('\\n'.join([','.join(hit[1:4]) for hit in sorted(hits, key = lambda x: float(x[3]))])+'\\n\\n')\n",
    "        pcts = sorted([float(i[3]) for i in hits])\n",
    "        best_index = pcts.index(max(pcts))\n",
    "        hit = hits[best_index]#pull out the first hit that has the best match\n",
    "        genome, contig, subunit, pct, start, stop = hit\n",
    "        best_hits.append([contig, start, stop])"
   ]
  }
 ],
 "metadata": {
  "anaconda-cloud": {},
  "kernelspec": {
   "display_name": "Python [default]",
   "language": "python",
   "name": "python3"
  },
  "language_info": {
   "codemirror_mode": {
    "name": "ipython",
    "version": 3
   },
   "file_extension": ".py",
   "mimetype": "text/x-python",
   "name": "python",
   "nbconvert_exporter": "python",
   "pygments_lexer": "ipython3",
   "version": "3.5.2"
  }
 },
 "nbformat": 4,
 "nbformat_minor": 0
}
